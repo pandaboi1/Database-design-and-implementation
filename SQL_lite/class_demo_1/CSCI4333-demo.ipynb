{
 "cells": [
  {
   "cell_type": "markdown",
   "metadata": {},
   "source": [
    "### Initialize Database Connection"
   ]
  },
  {
   "cell_type": "code",
   "execution_count": 21,
   "metadata": {},
   "outputs": [],
   "source": [
    "import sqlite3"
   ]
  },
  {
   "cell_type": "code",
   "execution_count": 22,
   "metadata": {},
   "outputs": [],
   "source": [
    "con = sqlite3.connect('CSCI4333-1.db')"
   ]
  },
  {
   "cell_type": "code",
   "execution_count": 23,
   "metadata": {},
   "outputs": [],
   "source": [
    "cur = con.cursor()"
   ]
  },
  {
   "cell_type": "markdown",
   "metadata": {},
   "source": [
    "### Create Table "
   ]
  },
  {
   "cell_type": "code",
   "execution_count": 24,
   "metadata": {},
   "outputs": [],
   "source": [
    "statement = '''\n",
    "CREATE TABLE Sailors (\n",
    "     sid text,\n",
    "     sname text,\n",
    "     rating int,\n",
    "     age real,\n",
    "     primary key (sid)\n",
    ");\n",
    "'''"
   ]
  },
  {
   "cell_type": "code",
   "execution_count": null,
   "metadata": {},
   "outputs": [],
   "source": [
    "cur.execute(statement)"
   ]
  },
  {
   "cell_type": "code",
   "execution_count": null,
   "metadata": {},
   "outputs": [
    {
     "data": {
      "text/plain": [
       "<sqlite3.Cursor at 0x279f51340c0>"
      ]
     },
     "execution_count": 6,
     "metadata": {},
     "output_type": "execute_result"
    }
   ],
   "source": [
    "statement = '''\n",
    "CREATE TABLE Boats (\n",
    "     bid text,\n",
    "     bname text,\n",
    "     color text,\n",
    "     primary key (bid)\n",
    ");\n",
    "'''\n",
    "\n",
    "cur.execute(statement)"
   ]
  },
  {
   "cell_type": "code",
   "execution_count": null,
   "metadata": {},
   "outputs": [
    {
     "data": {
      "text/plain": [
       "<sqlite3.Cursor at 0x279f51340c0>"
      ]
     },
     "execution_count": 7,
     "metadata": {},
     "output_type": "execute_result"
    }
   ],
   "source": [
    "statement = '''\n",
    "CREATE TABLE Reserves (\n",
    "     sid text,\n",
    "     bid text,\n",
    "     day date,\n",
    "     primary key (sid, bid),\n",
    "     foreign key (sid) references Sailors(sid),\n",
    "     foreign key (bid) references Boats(bid)\n",
    ");\n",
    "'''\n",
    "\n",
    "cur.execute(statement)"
   ]
  },
  {
   "cell_type": "markdown",
   "metadata": {},
   "source": [
    "### Entering the data"
   ]
  },
  {
   "cell_type": "code",
   "execution_count": null,
   "metadata": {},
   "outputs": [
    {
     "data": {
      "text/plain": [
       "<sqlite3.Cursor at 0x279f51340c0>"
      ]
     },
     "execution_count": 8,
     "metadata": {},
     "output_type": "execute_result"
    }
   ],
   "source": [
    "statement = '''\n",
    "INSERT INTO Sailors VALUES ('22','Dustin',7,45)\n",
    "'''\n",
    "cur.execute(statement)"
   ]
  },
  {
   "cell_type": "code",
   "execution_count": null,
   "metadata": {},
   "outputs": [
    {
     "data": {
      "text/plain": [
       "<sqlite3.Cursor at 0x279f51340c0>"
      ]
     },
     "execution_count": 9,
     "metadata": {},
     "output_type": "execute_result"
    }
   ],
   "source": [
    "cur.execute(\"INSERT INTO Sailors VALUES ('29','Brutus',1,33)\")\n",
    "cur.execute(\"INSERT INTO Sailors VALUES ('31','Lubber',8,55.5)\")\n",
    "cur.execute(\"INSERT INTO Sailors VALUES ('32','Andy',8,25.5)\")\n",
    "cur.execute(\"INSERT INTO Sailors VALUES ('58','Rusty',10,35)\")\n",
    "cur.execute(\"INSERT INTO Sailors VALUES ('64','Horatio',7,35)\")\n",
    "cur.execute(\"INSERT INTO Sailors VALUES ('71','Zorba',10,16)\")\n",
    "cur.execute(\"INSERT INTO Sailors VALUES ('74','Horatio',9,35)\")\n",
    "cur.execute(\"INSERT INTO Sailors VALUES ('85','Art',3,25.5)\")\n",
    "cur.execute(\"INSERT INTO Sailors VALUES ('95','Bob',3,63.5)\")\n"
   ]
  },
  {
   "cell_type": "code",
   "execution_count": null,
   "metadata": {},
   "outputs": [
    {
     "data": {
      "text/plain": [
       "<sqlite3.Cursor at 0x279f51340c0>"
      ]
     },
     "execution_count": 10,
     "metadata": {},
     "output_type": "execute_result"
    }
   ],
   "source": [
    "cur.execute(\"INSERT INTO Boats VALUES ('101','Interlake','blue')\")\n",
    "cur.execute(\"INSERT INTO Boats VALUES ('102','Interlake','red')\")\n",
    "cur.execute(\"INSERT INTO Boats VALUES ('103','Clipper','green')\")\n",
    "cur.execute(\"INSERT INTO Boats VALUES ('104','Marine','red')\")"
   ]
  },
  {
   "cell_type": "code",
   "execution_count": null,
   "metadata": {},
   "outputs": [
    {
     "data": {
      "text/plain": [
       "<sqlite3.Cursor at 0x279f51340c0>"
      ]
     },
     "execution_count": 11,
     "metadata": {},
     "output_type": "execute_result"
    }
   ],
   "source": [
    "cur.execute(\"INSERT INTO Reserves VALUES ('22','101','10/10/04')\")\n",
    "cur.execute(\"INSERT INTO Reserves VALUES ('22','102','10/10/04')\")\n",
    "cur.execute(\"INSERT INTO Reserves VALUES ('31','102','11/10/04')\")\n",
    "cur.execute(\"INSERT INTO Reserves VALUES ('31','103','11/06/04')\")"
   ]
  },
  {
   "cell_type": "code",
   "execution_count": null,
   "metadata": {},
   "outputs": [
    {
     "data": {
      "text/plain": [
       "<sqlite3.Cursor at 0x279f51340c0>"
      ]
     },
     "execution_count": 12,
     "metadata": {},
     "output_type": "execute_result"
    }
   ],
   "source": [
    "cur.execute(\"INSERT INTO Reserves VALUES ('22','103','10/08/04')\")\n",
    "cur.execute(\"INSERT INTO Reserves VALUES ('22','104','10/07/04')\")\n"
   ]
  },
  {
   "cell_type": "code",
   "execution_count": null,
   "metadata": {},
   "outputs": [
    {
     "data": {
      "text/plain": [
       "<sqlite3.Cursor at 0x279f51340c0>"
      ]
     },
     "execution_count": 13,
     "metadata": {},
     "output_type": "execute_result"
    }
   ],
   "source": [
    "cur.execute(\"INSERT INTO Reserves VALUES ('31','104','11/12/04')\")\n",
    "\n",
    "cur.execute(\"INSERT INTO Reserves VALUES ('64','101','09/05/04')\")\n",
    "cur.execute(\"INSERT INTO Reserves VALUES ('64','102','09/08/04')\")\n",
    "cur.execute(\"INSERT INTO Reserves VALUES ('74','103','09/08/04')\")\n"
   ]
  },
  {
   "cell_type": "markdown",
   "metadata": {},
   "source": [
    "### Visualize the data via SQL query "
   ]
  },
  {
   "cell_type": "code",
   "execution_count": null,
   "metadata": {},
   "outputs": [
    {
     "name": "stdout",
     "output_type": "stream",
     "text": [
      "['sid', 'bid', 'day']\n",
      "----------------\n",
      "('22', '101', '10/10/04')\n",
      "('22', '102', '10/10/04')\n",
      "('31', '102', '11/10/04')\n",
      "('31', '103', '11/06/04')\n",
      "('22', '103', '10/08/04')\n",
      "('22', '104', '10/07/04')\n",
      "('31', '104', '11/12/04')\n",
      "('64', '101', '09/05/04')\n",
      "('64', '102', '09/08/04')\n",
      "('74', '103', '09/08/04')\n"
     ]
    }
   ],
   "source": [
    "statement = '''\n",
    "SELECT * FROM Reserves; \n",
    "'''\n",
    "res = cur.execute(statement)\n",
    "\n",
    "relational_schema = [x[0] for x in res.description]\n",
    "print(relational_schema)\n",
    "print('----------------')\n",
    "for instance in res:\n",
    "    print(instance)"
   ]
  },
  {
   "cell_type": "code",
   "execution_count": null,
   "metadata": {},
   "outputs": [
    {
     "name": "stdout",
     "output_type": "stream",
     "text": [
      "['sid', 'sname', 'rating', 'age']\n",
      "----------------\n",
      "('22', 'Dustin', 7, 45.0)\n",
      "('29', 'Brutus', 1, 33.0)\n",
      "('31', 'Lubber', 8, 55.5)\n",
      "('32', 'Andy', 8, 25.5)\n",
      "('58', 'Rusty', 10, 35.0)\n",
      "('64', 'Horatio', 7, 35.0)\n",
      "('71', 'Zorba', 10, 16.0)\n",
      "('74', 'Horatio', 9, 35.0)\n",
      "('85', 'Art', 3, 25.5)\n",
      "('95', 'Bob', 3, 63.5)\n"
     ]
    }
   ],
   "source": [
    "statement = '''\n",
    "SELECT * FROM Sailors; \n",
    "'''\n",
    "res = cur.execute(statement)\n",
    "\n",
    "relational_schema = [x[0] for x in res.description]\n",
    "print(relational_schema)\n",
    "print('----------------')\n",
    "for instance in res:\n",
    "    print(instance)"
   ]
  },
  {
   "cell_type": "code",
   "execution_count": null,
   "metadata": {},
   "outputs": [
    {
     "name": "stdout",
     "output_type": "stream",
     "text": [
      "['bid', 'bname', 'color']\n",
      "----------------\n",
      "('101', 'Interlake', 'blue')\n",
      "('102', 'Interlake', 'red')\n",
      "('103', 'Clipper', 'green')\n",
      "('104', 'Marine', 'red')\n"
     ]
    }
   ],
   "source": [
    "statement = '''\n",
    "SELECT * FROM Boats; \n",
    "'''\n",
    "res = cur.execute(statement)\n",
    "\n",
    "relational_schema = [x[0] for x in res.description]\n",
    "print(relational_schema)\n",
    "print('----------------')\n",
    "for instance in res:\n",
    "    print(instance)"
   ]
  },
  {
   "cell_type": "markdown",
   "metadata": {},
   "source": [
    "### Basic SQL Questions"
   ]
  },
  {
   "cell_type": "markdown",
   "metadata": {},
   "source": [
    "#### Q1:  Find the name and sid (sid, sname) of the Sailors whose age is less than 30?"
   ]
  },
  {
   "cell_type": "code",
   "execution_count": null,
   "metadata": {},
   "outputs": [
    {
     "name": "stdout",
     "output_type": "stream",
     "text": [
      "['sid', 'sname']\n",
      "----------------\n",
      "('32', 'Andy')\n",
      "('71', 'Zorba')\n",
      "('85', 'Art')\n"
     ]
    }
   ],
   "source": [
    "statement = '''\n",
    "SELECT sid, sname FROM Sailors WHERE age<30; \n",
    "'''\n",
    "res = cur.execute(statement)\n",
    "\n",
    "relational_schema = [x[0] for x in res.description]\n",
    "print(relational_schema)\n",
    "print('----------------')\n",
    "for instance in res:\n",
    "    print(instance)"
   ]
  },
  {
   "cell_type": "markdown",
   "metadata": {},
   "source": [
    "#### Q2:  Find the boats (bid) which is reserved by sailors with id = 22?"
   ]
  },
  {
   "cell_type": "code",
   "execution_count": null,
   "metadata": {},
   "outputs": [
    {
     "name": "stdout",
     "output_type": "stream",
     "text": [
      "['bid']\n",
      "----------------\n",
      "('101',)\n",
      "('102',)\n",
      "('103',)\n",
      "('104',)\n"
     ]
    }
   ],
   "source": [
    "statement = '''\n",
    "SELECT bid FROM Reserves WHERE sid=22; \n",
    "'''\n",
    "res = cur.execute(statement)\n",
    "\n",
    "relational_schema = [x[0] for x in res.description]\n",
    "print(relational_schema)\n",
    "print('----------------')\n",
    "for instance in res:\n",
    "    print(instance)"
   ]
  },
  {
   "cell_type": "markdown",
   "metadata": {},
   "source": [
    "### Q3-2: Find the name and rating of the sailors (sname, rating) who reserved at least one red boat  "
   ]
  },
  {
   "cell_type": "code",
   "execution_count": 26,
   "metadata": {},
   "outputs": [
    {
     "ename": "OperationalError",
     "evalue": "incomplete input",
     "output_type": "error",
     "traceback": [
      "\u001b[1;31m---------------------------------------------------------------------------\u001b[0m",
      "\u001b[1;31mOperationalError\u001b[0m                          Traceback (most recent call last)",
      "Cell \u001b[1;32mIn[26], line 4\u001b[0m\n\u001b[0;32m      1\u001b[0m statement \u001b[38;5;241m=\u001b[39m \u001b[38;5;124m'''\u001b[39m\n\u001b[0;32m      2\u001b[0m \u001b[38;5;124mSELECT \u001b[39m\n\u001b[0;32m      3\u001b[0m \u001b[38;5;124m'''\u001b[39m\n\u001b[1;32m----> 4\u001b[0m res \u001b[38;5;241m=\u001b[39m \u001b[43mcur\u001b[49m\u001b[38;5;241;43m.\u001b[39;49m\u001b[43mexecute\u001b[49m\u001b[43m(\u001b[49m\u001b[43mstatement\u001b[49m\u001b[43m)\u001b[49m\n\u001b[0;32m      6\u001b[0m relational_schema \u001b[38;5;241m=\u001b[39m [x[\u001b[38;5;241m0\u001b[39m] \u001b[38;5;28;01mfor\u001b[39;00m x \u001b[38;5;129;01min\u001b[39;00m res\u001b[38;5;241m.\u001b[39mdescription]\n\u001b[0;32m      7\u001b[0m \u001b[38;5;28mprint\u001b[39m(relational_schema)\n",
      "\u001b[1;31mOperationalError\u001b[0m: incomplete input"
     ]
    }
   ],
   "source": [
    "statement = '''\n",
    "SELECT sname, rating FROM Sailors, Reserves WHERE ; \n",
    "'''\n",
    "res = cur.execute(statement)\n",
    "\n",
    "relational_schema = [x[0] for x in res.description]\n",
    "print(relational_schema)\n",
    "print('----------------')\n",
    "for instance in res:\n",
    "    print(instance)"
   ]
  },
  {
   "cell_type": "markdown",
   "metadata": {},
   "source": [
    "#### Q3:  Find the name and the color of the boats (bname, color) which are reserved by sailors with id = 22?"
   ]
  },
  {
   "cell_type": "code",
   "execution_count": null,
   "metadata": {},
   "outputs": [
    {
     "name": "stdout",
     "output_type": "stream",
     "text": [
      "['bname', 'color']\n",
      "----------------\n",
      "('Interlake', 'blue')\n",
      "('Interlake', 'red')\n",
      "('Clipper', 'green')\n",
      "('Marine', 'red')\n"
     ]
    }
   ],
   "source": [
    "statement = '''\n",
    "SELECT bname, color FROM Reserves, Boats WHERE sid=22 AND Reserves.bid=Boats.bid; \n",
    "'''\n",
    "res = cur.execute(statement)\n",
    "\n",
    "relational_schema = [x[0] for x in res.description]\n",
    "print(relational_schema)\n",
    "print('----------------')\n",
    "for instance in res:\n",
    "    print(instance)"
   ]
  },
  {
   "cell_type": "markdown",
   "metadata": {},
   "source": [
    "#### Q4:  Find the name and the color of the boats (bname, color) which are reserved by the sailors whose rating greater than 5?"
   ]
  },
  {
   "cell_type": "code",
   "execution_count": null,
   "metadata": {},
   "outputs": [
    {
     "name": "stdout",
     "output_type": "stream",
     "text": [
      "['bname', 'color']\n",
      "----------------\n",
      "('Interlake', 'blue')\n",
      "('Interlake', 'red')\n",
      "('Clipper', 'green')\n",
      "('Marine', 'red')\n"
     ]
    }
   ],
   "source": [
    "statement = '''\n",
    "SELECT DISTINCT bname, color FROM Reserves, Boats, Sailors WHERE  Reserves.bid=Boats.bid AND Reserves.sid = Sailors.sid AND rating>5;\n",
    "'''\n",
    "res = cur.execute(statement)\n",
    "\n",
    "relational_schema = [x[0] for x in res.description]\n",
    "print(relational_schema)\n",
    "print('----------------')\n",
    "for instance in res:\n",
    "    print(instance)"
   ]
  },
  {
   "cell_type": "code",
   "execution_count": null,
   "metadata": {},
   "outputs": [],
   "source": []
  }
 ],
 "metadata": {
  "kernelspec": {
   "display_name": "Python 3",
   "language": "python",
   "name": "python3"
  },
  "language_info": {
   "codemirror_mode": {
    "name": "ipython",
    "version": 3
   },
   "file_extension": ".py",
   "mimetype": "text/x-python",
   "name": "python",
   "nbconvert_exporter": "python",
   "pygments_lexer": "ipython3",
   "version": "3.12.2"
  }
 },
 "nbformat": 4,
 "nbformat_minor": 4
}
