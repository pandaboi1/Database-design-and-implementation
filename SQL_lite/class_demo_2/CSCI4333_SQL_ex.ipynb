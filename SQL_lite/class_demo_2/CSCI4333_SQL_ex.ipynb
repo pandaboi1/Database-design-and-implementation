{
  "cells": [
    {
      "cell_type": "code",
      "execution_count": 1,
      "metadata": {
        "id": "p5BEA-s0TpiI"
      },
      "outputs": [],
      "source": [
        "import sqlite3\n",
        "con = sqlite3.connect('CSCI4333.db')\n",
        "cur = con.cursor()\n"
      ]
    },
    {
      "cell_type": "code",
      "execution_count": 2,
      "metadata": {
        "colab": {
          "base_uri": "https://localhost:8080/"
        },
        "id": "c-VBfvAN9k5e",
        "outputId": "d7dc09a9-7863-479c-8bce-335325748879"
      },
      "outputs": [
        {
          "data": {
            "text/plain": [
              "<sqlite3.Cursor at 0x2af34da51c0>"
            ]
          },
          "execution_count": 2,
          "metadata": {},
          "output_type": "execute_result"
        }
      ],
      "source": [
        "statement = '''\n",
        "CREATE TABLE Sailors (\n",
        "     sid text,\n",
        "     sname text,\n",
        "     rating int,\n",
        "     age real,\n",
        "     primary key (sid)\n",
        ");\n",
        "'''\n",
        "\n",
        "cur.execute(statement)\n",
        "\n",
        "statement = '''\n",
        "CREATE TABLE Boats (\n",
        "     bid text,\n",
        "     bname text,\n",
        "     color text,\n",
        "     primary key (bid)\n",
        ");\n",
        "'''\n",
        "\n",
        "cur.execute(statement)\n",
        "\n",
        "statement = '''\n",
        "CREATE TABLE Reserves (\n",
        "     sid text,\n",
        "     bid text,\n",
        "     day date,\n",
        "     primary key (sid, bid),\n",
        "     foreign key (sid) references Sailors(sid),\n",
        "     foreign key (bid) references Boats(bid)\n",
        ");\n",
        "'''\n",
        "\n",
        "cur.execute(statement)\n",
        "\n",
        "statement = '''\n",
        "INSERT INTO Sailors VALUES ('22','Dustin',7,45)\n",
        "'''\n",
        "cur.execute(statement)\n",
        "\n",
        "cur.execute(\"INSERT INTO Sailors VALUES ('29','Brutus',1,33)\")\n",
        "cur.execute(\"INSERT INTO Sailors VALUES ('31','Lubber',8,55.5)\")\n",
        "cur.execute(\"INSERT INTO Sailors VALUES ('32','Andy',8,25.5)\")\n",
        "cur.execute(\"INSERT INTO Sailors VALUES ('58','Rusty',10,35)\")\n",
        "cur.execute(\"INSERT INTO Sailors VALUES ('64','Horatio',7,35)\")\n",
        "cur.execute(\"INSERT INTO Sailors VALUES ('71','Zorba',10,16)\")\n",
        "cur.execute(\"INSERT INTO Sailors VALUES ('74','Horatio',9,35)\")\n",
        "cur.execute(\"INSERT INTO Sailors VALUES ('85','Art',3,25.5)\")\n",
        "cur.execute(\"INSERT INTO Sailors VALUES ('95','Bob',3,63.5)\")\n",
        "\n",
        "\n",
        "cur.execute(\"INSERT INTO Boats VALUES ('101','Interlake','blue')\")\n",
        "cur.execute(\"INSERT INTO Boats VALUES ('102','Interlake','red')\")\n",
        "cur.execute(\"INSERT INTO Boats VALUES ('103','Clipper','green')\")\n",
        "cur.execute(\"INSERT INTO Boats VALUES ('104','Marine','red')\")\n",
        "\n",
        "cur.execute(\"INSERT INTO Reserves VALUES ('22','101','10/10/04')\")\n",
        "cur.execute(\"INSERT INTO Reserves VALUES ('22','102','10/10/04')\")\n",
        "cur.execute(\"INSERT INTO Reserves VALUES ('31','102','11/10/04')\")\n",
        "cur.execute(\"INSERT INTO Reserves VALUES ('31','103','11/06/04')\")\n",
        "cur.execute(\"INSERT INTO Reserves VALUES ('22','103','10/08/04')\")\n",
        "cur.execute(\"INSERT INTO Reserves VALUES ('22','104','10/07/04')\")\n",
        "cur.execute(\"INSERT INTO Reserves VALUES ('31','104','11/12/04')\")\n",
        "cur.execute(\"INSERT INTO Reserves VALUES ('64','101','09/05/04')\")\n",
        "cur.execute(\"INSERT INTO Reserves VALUES ('64','102','09/08/04')\")\n",
        "cur.execute(\"INSERT INTO Reserves VALUES ('74','103','09/08/04')\")\n",
        "\n"
      ]
    },
    {
      "cell_type": "code",
      "execution_count": 3,
      "metadata": {
        "colab": {
          "base_uri": "https://localhost:8080/"
        },
        "id": "JomDc8By-ZqV",
        "outputId": "7234314f-36eb-48cb-9dda-bb97e4480a14"
      },
      "outputs": [
        {
          "name": "stdout",
          "output_type": "stream",
          "text": [
            "['sid', 'bid', 'day']\n",
            "----------------\n",
            "('22', '101', '10/10/04')\n",
            "('22', '102', '10/10/04')\n",
            "('31', '102', '11/10/04')\n",
            "('31', '103', '11/06/04')\n",
            "('22', '103', '10/08/04')\n",
            "('22', '104', '10/07/04')\n",
            "('31', '104', '11/12/04')\n",
            "('64', '101', '09/05/04')\n",
            "('64', '102', '09/08/04')\n",
            "('74', '103', '09/08/04')\n",
            "['sid', 'sname', 'rating', 'age']\n",
            "----------------\n",
            "('22', 'Dustin', 7, 45.0)\n",
            "('29', 'Brutus', 1, 33.0)\n",
            "('31', 'Lubber', 8, 55.5)\n",
            "('32', 'Andy', 8, 25.5)\n",
            "('58', 'Rusty', 10, 35.0)\n",
            "('64', 'Horatio', 7, 35.0)\n",
            "('71', 'Zorba', 10, 16.0)\n",
            "('74', 'Horatio', 9, 35.0)\n",
            "('85', 'Art', 3, 25.5)\n",
            "('95', 'Bob', 3, 63.5)\n",
            "['bid', 'bname', 'color']\n",
            "----------------\n",
            "('101', 'Interlake', 'blue')\n",
            "('102', 'Interlake', 'red')\n",
            "('103', 'Clipper', 'green')\n",
            "('104', 'Marine', 'red')\n"
          ]
        }
      ],
      "source": [
        "statement = '''\n",
        "SELECT * FROM Reserves;\n",
        "'''\n",
        "res = cur.execute(statement)\n",
        "\n",
        "relational_schema = [x[0] for x in res.description]\n",
        "print(relational_schema)\n",
        "print('----------------')\n",
        "for instance in res:\n",
        "    print(instance)\n",
        "\n",
        "statement = '''\n",
        "SELECT * FROM Sailors;\n",
        "'''\n",
        "res = cur.execute(statement)\n",
        "\n",
        "relational_schema = [x[0] for x in res.description]\n",
        "print(relational_schema)\n",
        "print('----------------')\n",
        "for instance in res:\n",
        "    print(instance)\n",
        "\n",
        "statement = '''\n",
        "SELECT * FROM Boats;\n",
        "'''\n",
        "res = cur.execute(statement)\n",
        "\n",
        "relational_schema = [x[0] for x in res.description]\n",
        "print(relational_schema)\n",
        "print('----------------')\n",
        "for instance in res:\n",
        "    print(instance)\n"
      ]
    },
    {
      "cell_type": "markdown",
      "metadata": {
        "id": "Mz3J4u7SAAW0"
      },
      "source": [
        "#Basic SQL"
      ]
    },
    {
      "cell_type": "markdown",
      "metadata": {
        "id": "eSr4QTHyAEZD"
      },
      "source": [
        "Basic Syntax:\n",
        "\n",
        "SELECT [attributes]\n",
        "\n",
        "FROM [tables]\n",
        "\n",
        "WHERE [conditions]\n",
        "\n",
        "the command is equation to relational algebra ->\n",
        "\n",
        "$\\pi_{attributes}(\\sigma_{conditions}(Table1 \\times Table2 \\times \\dots \\times TableN))$"
      ]
    },
    {
      "cell_type": "markdown",
      "metadata": {
        "id": "x4wxh8JO-nnZ"
      },
      "source": [
        "##Q1:  Find the name and sid (sid, sname) of the Sailors whose age is less than 30?"
      ]
    },
    {
      "cell_type": "code",
      "execution_count": 4,
      "metadata": {
        "colab": {
          "base_uri": "https://localhost:8080/"
        },
        "id": "GOe-YFvZ-hgg",
        "outputId": "72f4ee16-f3f3-4405-a3ff-0183d3ce79d5"
      },
      "outputs": [
        {
          "name": "stdout",
          "output_type": "stream",
          "text": [
            "['sid', 'sname']\n",
            "----------------\n",
            "('32', 'Andy')\n",
            "('71', 'Zorba')\n",
            "('85', 'Art')\n"
          ]
        }
      ],
      "source": [
        "statement = '''\n",
        "SELECT sid, sname FROM Sailors WHERE age<30;\n",
        "'''\n",
        "res = cur.execute(statement)\n",
        "\n",
        "relational_schema = [x[0] for x in res.description]\n",
        "print(relational_schema)\n",
        "print('----------------')\n",
        "for instance in res:\n",
        "    print(instance)"
      ]
    },
    {
      "cell_type": "markdown",
      "metadata": {
        "id": "UxrIUuJD-s1V"
      },
      "source": [
        "##Q2: Find the name and the age of the Sailors (sname, age) whose rating is greater than 7"
      ]
    },
    {
      "cell_type": "code",
      "execution_count": 5,
      "metadata": {
        "colab": {
          "base_uri": "https://localhost:8080/"
        },
        "id": "9EklMZaZ-sSR",
        "outputId": "2b8b48a9-4dd7-4d92-c501-77f0ba7ffc2e"
      },
      "outputs": [
        {
          "name": "stdout",
          "output_type": "stream",
          "text": [
            "['sname', 'age']\n",
            "----------------\n",
            "('Lubber', 55.5)\n",
            "('Andy', 25.5)\n",
            "('Rusty', 35.0)\n",
            "('Zorba', 16.0)\n",
            "('Horatio', 35.0)\n"
          ]
        }
      ],
      "source": [
        "statement = '''\n",
        "SELECT sname, age FROM Sailors WHERE rating > 7;\n",
        "'''\n",
        "res = cur.execute(statement)\n",
        "\n",
        "relational_schema = [x[0] for x in res.description]\n",
        "print(relational_schema)\n",
        "print('----------------')\n",
        "for instance in res:\n",
        "    print(instance)"
      ]
    },
    {
      "cell_type": "markdown",
      "metadata": {
        "id": "jHN5_SX0-3IV"
      },
      "source": [
        "##Q3: Find the boats (bid) which is reserved by sailors with id = 22?"
      ]
    },
    {
      "cell_type": "code",
      "execution_count": 6,
      "metadata": {
        "colab": {
          "base_uri": "https://localhost:8080/"
        },
        "id": "WcvExAxO-7yQ",
        "outputId": "7088d783-c8c8-443d-c527-9b662fbef7b7"
      },
      "outputs": [
        {
          "name": "stdout",
          "output_type": "stream",
          "text": [
            "['bid']\n",
            "----------------\n",
            "('101',)\n",
            "('102',)\n",
            "('103',)\n",
            "('104',)\n"
          ]
        }
      ],
      "source": [
        "statement = '''\n",
        "SELECT bid FROM Reserves WHERE sid=22;\n",
        "'''\n",
        "res = cur.execute(statement)\n",
        "\n",
        "relational_schema = [x[0] for x in res.description]\n",
        "print(relational_schema)\n",
        "print('----------------')\n",
        "for instance in res:\n",
        "    print(instance)"
      ]
    },
    {
      "cell_type": "markdown",
      "metadata": {
        "id": "-mJvmuo7_Baw"
      },
      "source": [
        "##Q4: Find the name and rating of the sailors (sname, rating) who reserved at least one red boat"
      ]
    },
    {
      "cell_type": "code",
      "execution_count": 7,
      "metadata": {
        "colab": {
          "base_uri": "https://localhost:8080/"
        },
        "id": "f_kWKVXr_Apz",
        "outputId": "0801e235-8db0-464e-beda-25857931c6c0"
      },
      "outputs": [
        {
          "name": "stdout",
          "output_type": "stream",
          "text": [
            "['sname', 'rating']\n",
            "----------------\n",
            "('Dustin', 7)\n",
            "('Lubber', 8)\n",
            "('Horatio', 7)\n"
          ]
        }
      ],
      "source": [
        "statement = '''\n",
        "SELECT DISTINCT sname, rating\n",
        "FROM Sailors S, Reserves R, Boats B\n",
        "WHERE S.sid = R.sid AND R.bid = B.bid AND color='red'\n",
        "'''\n",
        "res = cur.execute(statement)\n",
        "\n",
        "relational_schema = [x[0] for x in res.description]\n",
        "print(relational_schema)\n",
        "print('----------------')\n",
        "for instance in res:\n",
        "    print(instance)"
      ]
    },
    {
      "cell_type": "markdown",
      "metadata": {
        "id": "8BK_4YYx_IAM"
      },
      "source": [
        "##Q5: Find the name and the color of the boats (bname, color) which are reserved by sailors with id = 22?"
      ]
    },
    {
      "cell_type": "code",
      "execution_count": 8,
      "metadata": {
        "colab": {
          "base_uri": "https://localhost:8080/"
        },
        "id": "0TBgMuoN_HgR",
        "outputId": "e1f3c3b3-264d-4229-b354-2701faf82412"
      },
      "outputs": [
        {
          "name": "stdout",
          "output_type": "stream",
          "text": [
            "['bname', 'color']\n",
            "----------------\n",
            "('Interlake', 'blue')\n",
            "('Interlake', 'red')\n",
            "('Clipper', 'green')\n",
            "('Marine', 'red')\n"
          ]
        }
      ],
      "source": [
        "statement = '''\n",
        "SELECT bname, color FROM Reserves, Boats WHERE sid=22 AND Reserves.bid=Boats.bid;\n",
        "'''\n",
        "res = cur.execute(statement)\n",
        "\n",
        "relational_schema = [x[0] for x in res.description]\n",
        "print(relational_schema)\n",
        "print('----------------')\n",
        "for instance in res:\n",
        "    print(instance)"
      ]
    },
    {
      "cell_type": "markdown",
      "metadata": {
        "id": "pOGlJxt__R0_"
      },
      "source": [
        "##Q6: Find the name and the color of the boats (bname, color) which are reserved by the sailors whose rating greater than 5?"
      ]
    },
    {
      "cell_type": "code",
      "execution_count": 9,
      "metadata": {
        "colab": {
          "base_uri": "https://localhost:8080/"
        },
        "id": "nV93y8Mx_Q-h",
        "outputId": "abd809e0-4b50-41f0-ada9-35628500c6db"
      },
      "outputs": [
        {
          "name": "stdout",
          "output_type": "stream",
          "text": [
            "['bname', 'color']\n",
            "----------------\n",
            "('Interlake', 'blue')\n",
            "('Interlake', 'red')\n",
            "('Clipper', 'green')\n",
            "('Marine', 'red')\n"
          ]
        }
      ],
      "source": [
        "statement = '''\n",
        "SELECT DISTINCT bname, color\n",
        "FROM Reserves, Boats, Sailors\n",
        "WHERE  Reserves.bid=Boats.bid\n",
        "    AND Reserves.sid = Sailors.sid\n",
        "    AND rating>5;\n",
        "'''\n",
        "res = cur.execute(statement)\n",
        "\n",
        "relational_schema = [x[0] for x in res.description]\n",
        "print(relational_schema)\n",
        "print('----------------')\n",
        "for instance in res:\n",
        "    print(instance)"
      ]
    },
    {
      "cell_type": "markdown",
      "metadata": {
        "id": "ybv7Nz5e_hbX"
      },
      "source": [
        "##Q7: Find the pair of sailors who reserved the same boat (sid, sname, sid2, sname2)"
      ]
    },
    {
      "cell_type": "code",
      "execution_count": 10,
      "metadata": {
        "colab": {
          "base_uri": "https://localhost:8080/"
        },
        "id": "Uq-4f4HM_cqH",
        "outputId": "9bc91270-9a05-42da-8fdf-5356351cc1dd"
      },
      "outputs": [
        {
          "name": "stdout",
          "output_type": "stream",
          "text": [
            "['sid', 'sname', 'sid2', 'sname2']\n",
            "----------------\n",
            "('64', 'Horatio', '22', 'Dustin')\n",
            "('31', 'Lubber', '22', 'Dustin')\n",
            "('74', 'Horatio', '22', 'Dustin')\n",
            "('22', 'Dustin', '31', 'Lubber')\n",
            "('64', 'Horatio', '31', 'Lubber')\n",
            "('74', 'Horatio', '31', 'Lubber')\n",
            "('22', 'Dustin', '64', 'Horatio')\n",
            "('31', 'Lubber', '64', 'Horatio')\n",
            "('22', 'Dustin', '74', 'Horatio')\n",
            "('31', 'Lubber', '74', 'Horatio')\n"
          ]
        }
      ],
      "source": [
        "statement = '''\n",
        "SELECT DISTINCT S.sid AS sid, S.sname AS sname, S2.sid AS sid2, S2.sname AS sname2\n",
        "FROM Sailors S, Reserves R, Sailors S2, Reserves R2\n",
        "WHERE S.sid = R.sid AND S2.sid=R2.sid AND R.bid=R2.bid AND S.sid<>S2.sid\n",
        "'''\n",
        "res = cur.execute(statement)\n",
        "\n",
        "relational_schema = [x[0] for x in res.description]\n",
        "print(relational_schema)\n",
        "print('----------------')\n",
        "for instance in res:\n",
        "    print(instance)"
      ]
    },
    {
      "cell_type": "markdown",
      "metadata": {
        "id": "mg6E-Fb3_0P1"
      },
      "source": [
        "##Q8: Find the pair of red boats that are reserved by the same sailors in different day (bid, bname, bid2, bname2)"
      ]
    },
    {
      "cell_type": "code",
      "execution_count": 11,
      "metadata": {
        "colab": {
          "base_uri": "https://localhost:8080/"
        },
        "id": "7YNVRoR1_59X",
        "outputId": "bd0edfb6-6b64-423d-dd09-13e2a159b3c2"
      },
      "outputs": [
        {
          "name": "stdout",
          "output_type": "stream",
          "text": [
            "['bid', 'bname', 'bid2', 'bname2']\n",
            "----------------\n",
            "('102', 'Interlake', '104', 'Marine')\n",
            "('104', 'Marine', '102', 'Interlake')\n"
          ]
        }
      ],
      "source": [
        "statement = '''\n",
        "SELECT DISTINCT R.bid, B.bname, R2.bid AS bid2, B2.bname AS bname2\n",
        "FROM Reserves R, Boats B, Reserves R2, Boats B2\n",
        "WHERE R.bid=B.bid\n",
        "  AND B.color='red'\n",
        "  AND R2.bid=B2.bid\n",
        "  AND B2.color='red'\n",
        "  AND R.sid = R2.sid\n",
        "  AND R.bid <> R2.bid\n",
        "'''\n",
        "res = cur.execute(statement)\n",
        "\n",
        "relational_schema = [x[0] for x in res.description]\n",
        "print(relational_schema)\n",
        "print('----------------')\n",
        "for instance in res:\n",
        "    print(instance)"
      ]
    },
    {
      "cell_type": "markdown",
      "metadata": {
        "id": "E3F4O1RnAqg2"
      },
      "source": [
        "#Set Operations"
      ]
    },
    {
      "cell_type": "markdown",
      "metadata": {
        "id": "Z4bfz8NmAt25"
      },
      "source": [
        "We have total three different set operations.\n",
        "\n",
        "INTERSECT: which perform intersection between two tables (table could be come from query)\n",
        "\n",
        "UNION: which perform union between two tables (table could be come from query)\n",
        "\n",
        "EXCEPT: which perform set difference between two tables (table could be come from query)\n"
      ]
    },
    {
      "cell_type": "markdown",
      "metadata": {
        "id": "xVeXFd0IA_XF"
      },
      "source": [
        "## Q1: Find the boats (bid) which is reserved by sailor 22 and 31"
      ]
    },
    {
      "cell_type": "code",
      "execution_count": 12,
      "metadata": {
        "colab": {
          "base_uri": "https://localhost:8080/"
        },
        "id": "_oUonKFSBF3O",
        "outputId": "72298dcf-b54a-46b3-969c-083ae4d8dfb8"
      },
      "outputs": [
        {
          "name": "stdout",
          "output_type": "stream",
          "text": [
            "['bid']\n",
            "----------------\n",
            "('102',)\n",
            "('103',)\n",
            "('104',)\n"
          ]
        }
      ],
      "source": [
        "statement = '''\n",
        "SELECT DISTINCT bid FROM Reserves\n",
        "WHERE sid=22\n",
        "\n",
        "INTERSECT\n",
        "\n",
        "SELECT DISTINCT bid FROM Reserves\n",
        "WHERE sid=31\n",
        "'''\n",
        "res = cur.execute(statement)\n",
        "\n",
        "relational_schema = [x[0] for x in res.description]\n",
        "print(relational_schema)\n",
        "print('----------------')\n",
        "for instance in res:\n",
        "    print(instance)"
      ]
    },
    {
      "cell_type": "markdown",
      "metadata": {
        "id": "sSqm1Q9fBI0T"
      },
      "source": [
        "## Q2: Find the boats (bid) which is reserved by sailor 22 or 31"
      ]
    },
    {
      "cell_type": "code",
      "execution_count": 13,
      "metadata": {
        "colab": {
          "base_uri": "https://localhost:8080/"
        },
        "id": "pFoBOWehBIAN",
        "outputId": "52123c5a-affe-438e-cda3-1a255fd8f948"
      },
      "outputs": [
        {
          "name": "stdout",
          "output_type": "stream",
          "text": [
            "['bid']\n",
            "----------------\n",
            "('101',)\n",
            "('102',)\n",
            "('103',)\n",
            "('104',)\n"
          ]
        }
      ],
      "source": [
        "statement = '''\n",
        "SELECT DISTINCT bid FROM Reserves\n",
        "WHERE sid=22 OR sid=31\n",
        "'''\n",
        "res = cur.execute(statement)\n",
        "\n",
        "relational_schema = [x[0] for x in res.description]\n",
        "print(relational_schema)\n",
        "print('----------------')\n",
        "for instance in res:\n",
        "    print(instance)"
      ]
    },
    {
      "cell_type": "code",
      "execution_count": 14,
      "metadata": {
        "colab": {
          "base_uri": "https://localhost:8080/"
        },
        "id": "PJCYrPfzBPSs",
        "outputId": "9697d11c-5f40-49dc-de06-71d9a02cc919"
      },
      "outputs": [
        {
          "name": "stdout",
          "output_type": "stream",
          "text": [
            "['bid']\n",
            "----------------\n",
            "('101',)\n",
            "('102',)\n",
            "('103',)\n",
            "('104',)\n"
          ]
        }
      ],
      "source": [
        "statement = '''\n",
        "SELECT DISTINCT bid FROM Reserves\n",
        "WHERE sid=22\n",
        "\n",
        "UNION\n",
        "\n",
        "SELECT DISTINCT bid FROM Reserves\n",
        "WHERE sid=31\n",
        "'''\n",
        "res = cur.execute(statement)\n",
        "\n",
        "relational_schema = [x[0] for x in res.description]\n",
        "print(relational_schema)\n",
        "print('----------------')\n",
        "for instance in res:\n",
        "    print(instance)\n",
        "\n"
      ]
    },
    {
      "cell_type": "markdown",
      "metadata": {
        "id": "DuAa4axpBSMZ"
      },
      "source": [
        "## Q3: Find the boats (bid) which is reserved by sailor 22 but not 31"
      ]
    },
    {
      "cell_type": "code",
      "execution_count": 15,
      "metadata": {
        "colab": {
          "base_uri": "https://localhost:8080/"
        },
        "id": "xZwiH7SoBRSi",
        "outputId": "3a4ddc75-df21-476c-caa1-659a4e48c419"
      },
      "outputs": [
        {
          "name": "stdout",
          "output_type": "stream",
          "text": [
            "['bid']\n",
            "----------------\n",
            "('101',)\n"
          ]
        }
      ],
      "source": [
        "statement = '''\n",
        "SELECT DISTINCT bid FROM Reserves\n",
        "WHERE sid=22\n",
        "\n",
        "EXCEPT\n",
        "\n",
        "SELECT DISTINCT bid FROM Reserves\n",
        "WHERE sid=31\n",
        "'''\n",
        "res = cur.execute(statement)\n",
        "\n",
        "relational_schema = [x[0] for x in res.description]\n",
        "print(relational_schema)\n",
        "print('----------------')\n",
        "for instance in res:\n",
        "    print(instance)\n",
        "\n"
      ]
    },
    {
      "cell_type": "markdown",
      "metadata": {
        "id": "5ab3h9gfBbEy"
      },
      "source": [
        "## Q4: Find the sailors (sid) whose reserved boat 101 and boat 102"
      ]
    },
    {
      "cell_type": "code",
      "execution_count": 16,
      "metadata": {
        "colab": {
          "base_uri": "https://localhost:8080/"
        },
        "id": "Jl5YDefCBaJD",
        "outputId": "dd4135d6-a4a4-4f50-a7d9-4016c690d080"
      },
      "outputs": [
        {
          "name": "stdout",
          "output_type": "stream",
          "text": [
            "['sid']\n",
            "----------------\n",
            "('22',)\n",
            "('64',)\n"
          ]
        }
      ],
      "source": [
        "statement = '''\n",
        "SELECT sid FROM Reserves\n",
        "WHERE bid=102\n",
        "\n",
        "INTERSECT\n",
        "\n",
        "SELECT sid FROM Reserves\n",
        "WHERE bid=101\n",
        "\n",
        "\n",
        "'''\n",
        "res = cur.execute(statement)\n",
        "\n",
        "relational_schema = [x[0] for x in res.description]\n",
        "print(relational_schema)\n",
        "print('----------------')\n",
        "for instance in res:\n",
        "    print(instance)"
      ]
    },
    {
      "cell_type": "markdown",
      "metadata": {
        "id": "qyKcu4_pBs8-"
      },
      "source": [
        "## Q5: Find the sailors (sid) whose reserved boat 101 or boat 102"
      ]
    },
    {
      "cell_type": "code",
      "execution_count": 17,
      "metadata": {
        "colab": {
          "base_uri": "https://localhost:8080/"
        },
        "id": "A2iPtf77BnQB",
        "outputId": "bf351692-8877-49aa-aff7-7bdbd5e8a2db"
      },
      "outputs": [
        {
          "name": "stdout",
          "output_type": "stream",
          "text": [
            "['sid']\n",
            "----------------\n",
            "('22',)\n",
            "('31',)\n",
            "('64',)\n"
          ]
        }
      ],
      "source": [
        "statement = '''\n",
        "SELECT DISTINCT sid FROM Reserves\n",
        "WHERE bid=101\n",
        "\n",
        "UNION\n",
        "\n",
        "SELECT DISTINCT sid FROM Reserves\n",
        "WHERE bid=102\n",
        "'''\n",
        "res = cur.execute(statement)\n",
        "\n",
        "relational_schema = [x[0] for x in res.description]\n",
        "print(relational_schema)\n",
        "print('----------------')\n",
        "for instance in res:\n",
        "    print(instance)\n",
        "\n"
      ]
    },
    {
      "cell_type": "markdown",
      "metadata": {
        "id": "853kuCxzB1Kq"
      },
      "source": [
        "##Q6: Find the sailors (sid) whose reserved boat 102 but never reserve boat 101"
      ]
    },
    {
      "cell_type": "code",
      "execution_count": 18,
      "metadata": {
        "colab": {
          "base_uri": "https://localhost:8080/"
        },
        "id": "-4cek4xEB6xI",
        "outputId": "65f3d6ba-f1a8-4866-e10a-9e54faa4be7d"
      },
      "outputs": [
        {
          "name": "stdout",
          "output_type": "stream",
          "text": [
            "['sid']\n",
            "----------------\n",
            "('31',)\n"
          ]
        }
      ],
      "source": [
        "statement = '''\n",
        "SELECT DISTINCT sid FROM Reserves\n",
        "WHERE bid=102\n",
        "\n",
        "EXCEPT\n",
        "\n",
        "SELECT DISTINCT sid FROM Reserves\n",
        "WHERE bid=101\n",
        "'''\n",
        "res = cur.execute(statement)\n",
        "\n",
        "relational_schema = [x[0] for x in res.description]\n",
        "print(relational_schema)\n",
        "print('----------------')\n",
        "for instance in res:\n",
        "    print(instance)\n",
        "\n"
      ]
    },
    {
      "cell_type": "markdown",
      "metadata": {
        "id": "REFw12BvCu17"
      },
      "source": [
        "#Close the connection (Do NOT run this if you plan to play with the query)"
      ]
    },
    {
      "cell_type": "code",
      "execution_count": 19,
      "metadata": {
        "id": "XeDUOqhICny9"
      },
      "outputs": [],
      "source": [
        "con.commit()\n",
        "con.close()"
      ]
    }
  ],
  "metadata": {
    "colab": {
      "provenance": []
    },
    "kernelspec": {
      "display_name": "Python 3",
      "name": "python3"
    },
    "language_info": {
      "codemirror_mode": {
        "name": "ipython",
        "version": 3
      },
      "file_extension": ".py",
      "mimetype": "text/x-python",
      "name": "python",
      "nbconvert_exporter": "python",
      "pygments_lexer": "ipython3",
      "version": "3.12.2"
    }
  },
  "nbformat": 4,
  "nbformat_minor": 0
}
